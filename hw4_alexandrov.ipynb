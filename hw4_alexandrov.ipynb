{
 "cells": [
  {
   "cell_type": "markdown",
   "metadata": {},
   "source": [
    "# Алгоритмы интеллектуальной обработки больших объемов данных\n",
    "## Домашнее задание №4 - Алгоритмы кластеризации\n"
   ]
  },
  {
   "cell_type": "markdown",
   "metadata": {},
   "source": [
    "###### <hr\\>\n",
    "**Общая информация**\n",
    "\n",
    "**Срок сдачи:** 10 декабря 2019, 06:00 <br\\>\n",
    "**Штраф за опоздание:** -2 балла после 06:00 10 декабря, -4 балла после 06:00 17 декабря, -6 баллов после 06:00 24 декабря -8 баллов  после 06:00 31 декабря\n",
    "\n",
    "При отправлении ДЗ указывайте фамилию в названии файла Присылать ДЗ необходимо в виде ссылки на свой github репозиторий на почту ml1.sphere@mail.ru с указанием темы в следующем формате:\n",
    "[ML0919, Задание 4] Фамилия Имя\n",
    "\n",
    "Используйте данный Ipython Notebook при оформлении домашнего задания.\n",
    "<hr\\>"
   ]
  },
  {
   "cell_type": "markdown",
   "metadata": {},
   "source": [
    "**Из чего состоит задание:**\n",
    "\n",
    "###### Теоретические вопросы (2 балла)\n",
    "\n",
    "###### Реализация алгоритма кластеризации (5 баллов)\n",
    "\n",
    "###### Боевое применение (3 балла)\n",
    "\n",
    "\n"
   ]
  },
  {
   "cell_type": "markdown",
   "metadata": {},
   "source": [
    "**Штрафные баллы:**\n",
    "\n",
    "1. Невыполнение PEP8 -1 балл\n",
    "2. Отсутствие фамилии в имени скрипта (скрипт должен называться по аналогии со stroykova_hw4.ipynb) -1 балл\n",
    "3. Все строчки должны быть выполнены. Нужно, чтобы output команды можно было увидеть уже в git'е. В противном случае -1 балл\n",
    "4. При оформлении ДЗ нужно пользоваться данным файлом в качестве шаблона. Не нужно удалять и видоизменять написанный код и текст. В противном случае -1 балл"
   ]
  },
  {
   "cell_type": "code",
   "execution_count": 1,
   "metadata": {},
   "outputs": [
    {
     "name": "stdout",
     "output_type": "stream",
     "text": [
      "Populating the interactive namespace from numpy and matplotlib\n"
     ]
    }
   ],
   "source": [
    "import time\n",
    "import pandas as pd\n",
    "import pylab as pl\n",
    "import numpy as np\n",
    "import scipy.spatial as ss\n",
    "import scipy.cluster as sc\n",
    "import sklearn.manifold as sm\n",
    "import sklearn.datasets as ds\n",
    "import sklearn.metrics as smt\n",
    "from sklearn.mixture import GaussianMixture\n",
    "from sklearn.cluster import AgglomerativeClustering\n",
    "from sklearn.feature_extraction.text import CountVectorizer, TfidfTransformer\n",
    "from sklearn.pipeline import Pipeline\n",
    "from sklearn.metrics import f1_score\n",
    "\n",
    "from sklearn.metrics.pairwise import pairwise_distances\n",
    "\n",
    "import matplotlib.pyplot as plt\n",
    "\n",
    "from tqdm import tqdm as tqdm\n",
    "\n",
    "%matplotlib inline\n",
    "\n",
    "plt.style.use('ggplot')\n",
    "plt.rcParams['figure.figsize'] = (12,5)\n",
    "\n",
    "# Plotting config\n",
    "%pylab inline"
   ]
  },
  {
   "cell_type": "markdown",
   "metadata": {},
   "source": [
    "# Теоретическое введение\n"
   ]
  },
  {
   "cell_type": "markdown",
   "metadata": {},
   "source": [
    "Основная задача кластерного анализа — разбиение исходного набора объектов на группы (кластеры) таким образом, чтобы объекты в группе были похожи друг на друга, а объекты из разных групп - отличались. \n",
    "\n",
    "В этой работе мы будем реализовывать агломеративную кластеризацию. "
   ]
  },
  {
   "cell_type": "markdown",
   "metadata": {},
   "source": [
    "## Агломеративная кластеризация"
   ]
  },
  {
   "cell_type": "markdown",
   "metadata": {},
   "source": [
    "Иерархические алгоритмы кластеризации строят на выборке систему вложенных разбиений.  Наиболее часто испоьзуемые иерархические алгоритмы - агломеративные алгоритмы, которые строят ирархию по восходящей, то есть от момента, когда все элементы являются отдельными кластерами, до того момента, пока вся выборка не станет одним кластером."
   ]
  },
  {
   "cell_type": "markdown",
   "metadata": {},
   "source": [
    "Сам алгоритм описать можно примерно так:\n",
    "\n",
    "* начинаем с ситуации, когда каждый объект - отдельный кластер\n",
    "* на каждом шаге совмещаем два наиболее близких кластера\n",
    "* останавливаемся, когда получаем требуемое количество или единственный кластер"
   ]
  },
  {
   "cell_type": "markdown",
   "metadata": {},
   "source": [
    "\n",
    "В данной работе Вам предлагается реализовать три варианта расстояний между кластерами, по которым Вы определяете пару для слияния: \n",
    "* Single linkage\n",
    "$$ d_{min}(C_i, C_j) = \\min_{\\mathbf{x} \\in C_i, \\mathbf{x}' \\in C_j} \\|\\mathbf{x} -\\mathbf{x}' \\| $$\n",
    "\n",
    "* Complete linkage\n",
    "$$ d_{max}(C_i, C_j) = \\max_{\\mathbf{x} \\in C_i, \\mathbf{x}' \\in C_j} \\|\\mathbf{x} -\\mathbf{x}' \\| $$\n",
    "\n",
    "* Average linkage\n",
    "$$ d_{avg}(C_i, C_j) = \\frac{1}{n_i n_j}\\sum_{\\mathbf{x} \\in C_i}\\sum_{\\mathbf{x}' \\in C_j} \\|\\mathbf{x} -\\mathbf{x}' \\| $$\n",
    "\n",
    "Как считать расстояние $\\|\\mathbf{x} -\\mathbf{x}' \\|$ между объектами Вы должны выбрать сами.  Вы должны четко понимать, что выбор расстояния между объектами - самое важное в такого рода алгоритмах. Передавайте название расстояния в конструктор класса, а потом, в зависимости от названия, применяете ту или иную функцию для подсчета расстояния. \n",
    "\n"
   ]
  },
  {
   "cell_type": "markdown",
   "metadata": {},
   "source": [
    "Для того, чтобы на втором этапе нам не пересчитывать заново расстояния между всеми парами кластеров, можно использовать Формулы Ланса-Вильямса, которые позволяют посчитать расстояние между кластерами после объединения, используя только расстояния между кластерами до объедения.  Таким образом, достаточно будет посчитать расстояния только между всеми одноэлементными кластерами (первый этап), а затем пересчитывать расстояния при их объединении через \n",
    "формулы Ланса-Вильямса. \n",
    "\n",
    "Общая  формула выглядит так:\n",
    "$$ d(C_i \\cup C_j, C_k) = a_i \\cdot d(C_i, C_k) + a_j \\cdot d(C_j, C_k) + b \\cdot d(C_i, C_j) + c \\cdot |d(C_i, C_k) - d(C_j, C_k)|$$\n",
    "\n",
    "Можно показать, что все относительно разумные кластерные расстояния можно описать данной формулой. \n",
    "\n",
    "Для интересущих нас linkage:\n",
    "\n",
    "* single-linkage       $a_i = \\frac{1}{2}, a_j =  \\frac{1}{2}, b = 0, c =  - \\frac{1}{2} $\n",
    "\n",
    "* complete-linkage     $a_i = \\frac{1}{2}, a_j =  \\frac{1}{2}, b = 0, c =   \\frac{1}{2} $\n",
    "\n",
    "* average-linkage       $a_i = \\frac{|C_i|}{|C_i \\cup C_j|}, a_j =  \\frac{|C_j|}{|C_i \\cup C_j|}, b = 0, c = 0 $\n",
    "\n"
   ]
  },
  {
   "cell_type": "markdown",
   "metadata": {},
   "source": [
    "# Теоретические вопросы (2 балла)\n",
    "В этой части Вам будут предложены теоретичские вопросы и задачи по теме. Вы, конечно, можете списать их у своего товарища или найти решение в интернете, но учтите, что они обязательно войдут в теоретический коллоквиум. Лучше разобраться в теме сейчас и успешно ответить на коллоквиуме, чем списать, не разобравшись в материале, и быть терзаемым совестью. \n",
    "\n",
    "\n",
    "Формулы надо оформлять в формате **LaTeX**."
   ]
  },
  {
   "cell_type": "markdown",
   "metadata": {},
   "source": [
    "Задача 1. Сходимость kmeans.\n",
    "\n",
    "Докажите, что kmeans всегда сходится, и итераций не будет превышать $k^N$, где $k$ $-$ число кластеров, $N$ $-$ число объектов\n",
    "\n",
    "Подсказка: Вам стоит рассмотреть функционал, который минимизирует алгоритм, и подумать, как он изменяется на E шаге и на M шаге.\n",
    "\n"
   ]
  },
  {
   "cell_type": "markdown",
   "metadata": {},
   "source": [
    "***Ваше решение здесь***"
   ]
  },
  {
   "cell_type": "markdown",
   "metadata": {},
   "source": [
    "Функционал качества из лекции:\n",
    "\n",
    "$$Q = \\sum_n^N r_{n, k} ||x_n - \\mu_n||^2 $$\n",
    "\n",
    "Очевидно, что при каждой итерации функционал не возрастастает, при этом он ограничен снизу нулем, поэтому алгоритм всегда сходится.\n",
    "\n",
    "При $K$ кластерах и $N$ объектах, из комбинаторики мы знаем, что у нас есть всего $K^N$ способов разбить объекты по кластерам. Каждая итерация имеет собственное разбиение объектов. При этом, если следующее разбиение такое же как и старое, все последующие разбиения будут такими же и алгоритм сойдется. Поэтому алгоритм Kmeans не может работать больше $K^N$ итераций"
   ]
  },
  {
   "cell_type": "markdown",
   "metadata": {},
   "source": [
    "Задача 2.  ММП для многомерного нормального распределения.\n",
    "\n",
    "Функция правдоподобия в общем случае записывается как:\n",
    "￼\n",
    "￼$$ L(\\theta) = p(X | \\theta ) = \\prod_{i=1}^N p(x_i | \\theta)$$\n",
    "\n",
    "Для многомерного нормального распределения плотность вероятности:\n",
    "$$p(x_i| \\theta) = \\frac{1}{(2\\pi)^{n/2}|\\Sigma|^{1/2}}e^{-\\frac{1}{2} (x_i - \\mu)^T\\Sigma^{-1}(x_i - \\mu)}$$\n",
    "\n",
    "Выведите ММП оценку для вектора $\\mu$"
   ]
  },
  {
   "cell_type": "markdown",
   "metadata": {},
   "source": [
    "***Ваше решение здесь***\n",
    "\n",
    "Логарифм функции правдоподобия:\n",
    "\n",
    "$$ L(\\mu) = -\\frac{1}{2} \\ln(\\frac{1}{(2\\pi)^{n/2}|\\Sigma|^{1/2}}) \\sum_{i = 1}^{n}(x_i - \\mu)^T\\Sigma^{-1}(x_i - \\mu)$$\n",
    "\n",
    "Производная функции правдоподобия по $\\mu$:\n",
    "\n",
    "$$\\nabla L(\\mu) = \\sum^{-1}(x_i-\\mu)=0$$\n",
    "\n",
    "Отсюда следует оценка для $\\mu$\n",
    "\n",
    "$$\\hat{\\mu} = \\frac{1}{N}\\sum_{i=1}^N x_i$$\n",
    "\n"
   ]
  },
  {
   "cell_type": "markdown",
   "metadata": {},
   "source": [
    "Задача 3. Формулы Ланса-Вильямса.\n",
    "\n",
    "Формулы Ланса-Вильямса крайне удобны для быстрого пересчта расстояний в агломеративной кластеризации. Давайте докажем  формулы для single и complete linkage. \n",
    "\n",
    "Докажите, что:\n",
    "\n",
    "$d_{\\min}(U \\cup V, S) = \\frac{1}{2} d_{\\min}(U, S) + \\frac{1}{2} d_{\\min}(V, S)  - \\frac{1}{2} | d_{\\min}(U, S) - d_{\\min}(V, S) |  $\n",
    "\n",
    "\n",
    "$d_{\\max}(U \\cup V, S) = \\frac{1}{2} d_{\\max}(U, S) + \\frac{1}{2} d_{\\max}(V, S)  + \\frac{1}{2} | d_{\\max}(U, S) - d_{\\max}(V, S) |  $\n"
   ]
  },
  {
   "cell_type": "markdown",
   "metadata": {},
   "source": [
    "***Ваше решение здесь***\n",
    "\n",
    "Докажем формулу для $d_{max}(U \\cup V, S)$, для $d_{min}(U \\cup V, S)$ все аналогично\n",
    "\n",
    "Возможно только два случая:\n",
    "\n",
    "$$ d_{max}(U \\cup V, S) = d_{max}(U, S) \\\\ d_{max}(U \\cup V, S) = d_{max}(V, S) $$\n",
    "\n",
    "Что возможно только при соответствующих условиях:\n",
    "\n",
    "$$d_{max}(U, S) < d_{max}(V, S) \\\\ d_{max}(U, S) \\geq d_{max}(V, S)$$\n",
    "\n",
    "Для каждого случая, формула $d_{\\max}(U \\cup V, S) = \\frac{1}{2} d_{\\max}(U, S) + \\frac{1}{2} d_{\\max}(V, S)  + \\frac{1}{2} | d_{\\max}(U, S) - d_{\\max}(V, S) |  $ останется справедливой, что и требовалось доказать"
   ]
  },
  {
   "cell_type": "markdown",
   "metadata": {},
   "source": [
    "# Реализация алгоритма кластеризации  (5 баллов)"
   ]
  },
  {
   "cell_type": "markdown",
   "metadata": {},
   "source": [
    "Алгоритм кластеризации должен удовлетворять следующему интерфейсу. Конструктор принимает набор параметров, необходимых для работы алгоритма кластеризации. Метод `fit` подсчитывает параметры модели и возвращает `self`. Метод `predict` возвращает вектор с индексами кластеров для поданных в него объектов `x`. "
   ]
  },
  {
   "cell_type": "code",
   "execution_count": 2,
   "metadata": {},
   "outputs": [],
   "source": [
    "from sklearn.base import BaseEstimator, ClusterMixin\n",
    "\n",
    "\n",
    "class Clustering(BaseEstimator, ClusterMixin):\n",
    "    \"\"\"\n",
    "    Implement clustering algorithm according \n",
    "    \"\"\"\n",
    "    \n",
    "    def __compute_lance_willams(self, d_ik, d_jk, d_ij, a_i, a_j, b, c):\n",
    "        return a_i*d_ik + a_j*d_jk + b*d_ij + c*abs(d_ik - d_jk)\n",
    "    \n",
    "    def __compute_single_linkage(self, d_ik, d_jk, d_ij, i_size, j_size):\n",
    "        return self.__compute_lance_willams(d_ik, d_jk, d_ij, 0.5, 0.5, 0, -0.5)\n",
    "    \n",
    "    def __compute_complete_linkage(self, d_ik, d_jk, d_ij, i_size, j_size):\n",
    "        return self.__compute_lance_willams(d_ik, d_jk, d_ij, 0.5, 0.5, 0, 0.5)\n",
    "    \n",
    "    def __compute_average_linkage(self, d_ik, d_jk, d_ij, i_size, j_size):\n",
    "        a_i = i_size / (i_size + j_size)\n",
    "        a_j = j_size / (i_size + j_size)\n",
    "        return self.__compute_lance_willams(d_ik, d_jk, d_ij, a_i, a_j, 0, 0)\n",
    "    \n",
    "    def __init__(self, metric='euclidean', linkage='single', n_clusters=2):\n",
    "        \"\"\"\n",
    "        metric - string with name of metric, for example, euclidean\n",
    "        Please add necessary algoritm parameters to class constructor.\n",
    "        \"\"\"\n",
    "        \n",
    "        self.metric = metric\n",
    "        self.linkage = linkage\n",
    "        self.n_clusters = n_clusters\n",
    "        \n",
    "        if linkage == 'single':\n",
    "            self.recompute_distance = self.__compute_single_linkage\n",
    "        elif linkage == 'complete':\n",
    "            self.recompute_distance = self.__compute_complete_linkage\n",
    "        elif linkage == 'average':\n",
    "            self.recompute_distance = self.__compute_average_linkage\n",
    "        else:\n",
    "            raise ValueError(\"Wrong linkage value\")\n",
    "    \n",
    "    def _get_linkage_matrix(self, x):\n",
    "        \n",
    "        distance_matrix = pairwise_distances(x, metric=self.metric)\n",
    "        linkage_matrix = np.zeros((self.x_len-1, 4), dtype=np.float)\n",
    "        cluster_sizes = np.ones((self.x_len*2-1))\n",
    "        cluster_index_dict = {i:i for i in range(self.x_len)}\n",
    "        \n",
    "        for iter_num in tqdm(range(self.x_len-1)):\n",
    "            \n",
    "            # find minimum distance\n",
    "            min_value = np.inf\n",
    "            for i in range(self.x_len):\n",
    "                for j in range(i+1, self.x_len):\n",
    "                    if distance_matrix[i][j] < min_value:\n",
    "                        min_value = distance_matrix[i][j]\n",
    "                        i_min = i\n",
    "                        j_min = j\n",
    "            # make clustering\n",
    "            cluster_sizes[i_min] = cluster_sizes[i_min] + cluster_sizes[j_min]\n",
    "            linkage_matrix[iter_num] = cluster_index_dict[i_min], cluster_index_dict[j_min],\\\n",
    "                distance_matrix[i_min][j_min],\\\n",
    "                cluster_sizes[i_min]\n",
    "            cluster_index_dict[i_min] = iter_num + self.x_len\n",
    "            # remove j-cluster and update i-cluster\n",
    "            for k in range(self.x_len):\n",
    "                d_ik = distance_matrix[i_min][k]\n",
    "                d_jk = distance_matrix[j_min][k]\n",
    "                d_ij = min_value\n",
    "                distance_matrix[i_min][k] = self.recompute_distance(d_ik, d_jk, d_ij, cluster_sizes[i_min], cluster_sizes[j_min])\n",
    "                distance_matrix[k][i_min] = self.recompute_distance(d_ik, d_jk, d_ij, cluster_sizes[i_min], cluster_sizes[j_min])\n",
    "            for j in range(self.x_len):\n",
    "                distance_matrix[j_min][j] = np.inf\n",
    "                distance_matrix[j][j_min] = np.inf\n",
    "        return linkage_matrix\n",
    "        \n",
    "    def fit_predict(self, x):\n",
    "        \"\"\"\n",
    "        Use data matrix x to compute model parameters and predict clusters\n",
    "        \"\"\"\n",
    "        self.x_len = x.shape[0]\n",
    "        \n",
    "        self.linkage_matrix = self._get_linkage_matrix(x)\n",
    "        \n",
    "#         self.linkage_matrix = sc.hierarchy.linkage(X, method=self.linkage, metric=self.metric)\n",
    "        self.labels_ = sc.hierarchy.cut_tree(self.linkage_matrix, n_clusters=self.n_clusters).flatten()\n",
    "        return self.labels_\n",
    "        \n",
    "        # return self.linkage_matrix\n",
    "    \n",
    "    def plot_dendrogram(self, **kwargs):\n",
    "        \"\"\"\n",
    "        Try to visualize our data\n",
    "        \"\"\"\n",
    "        sc.hierarchy.dendrogram(self.linkage_matrix, **kwargs)"
   ]
  },
  {
   "cell_type": "markdown",
   "metadata": {},
   "source": [
    "Сначала проверим реализованный алгоритм кластеризации на классическом наборе данных [Iris](http://www.wikiwand.com/en/Iris_flower_data_set). Загрузим данные (они включены в библиотеку sklearn) и посмотрим на то, как они выглядят в двух проекциях (для простоты используем 2 класса из 3)."
   ]
  },
  {
   "cell_type": "code",
   "execution_count": 3,
   "metadata": {},
   "outputs": [
    {
     "data": {
      "image/png": "[encoded data removed]",
      "text/plain": [
       "<Figure size 720x360 with 2 Axes>"
      ]
     },
     "metadata": {
      "needs_background": "light"
     },
     "output_type": "display_data"
    }
   ],
   "source": [
    "iris = ds.load_iris()\n",
    "x_iris = iris.data[:100]\n",
    "y_iris = iris.target[:100]\n",
    "\n",
    "pl.figure(figsize=(10, 5))\n",
    "\n",
    "pl.subplot(1, 2, 1)\n",
    "pl.scatter(x_iris[:, 0], x_iris[:, 1], c=y_iris, cmap=pl.cm.PuOr, lw=0, s=30)\n",
    "plt.xlabel('Sepal length')\n",
    "plt.ylabel('Sepal width')\n",
    "\n",
    "pl.subplot(1, 2, 2)\n",
    "pl.scatter(x_iris[:, 2], x_iris[:, 3], c=y_iris, cmap=pl.cm.PuOr, lw=0, s=30)\n",
    "plt.xlabel('Petal length')\n",
    "plt.ylabel('Petal width')\n",
    "pl.show()"
   ]
  },
  {
   "cell_type": "markdown",
   "metadata": {},
   "source": [
    "Видно, что классы разделяются, поэтому можно надеяться, что наш алгоритм \"найдет\" кластеры, соответствующие исходным классам. Результат работы реализованного алгоритма кластеризации предлагается сравнить с эталонной кластеризацией. Для этого предлагается изучить метрику ([adjusted rand score](http://scikit-learn.org/stable/modules/generated/sklearn.metrics.adjusted_rand_score.html)). В случае если значение этой метрики отличается от 1, предлагается поработать над улучшением реализации своего алгоритма."
   ]
  },
  {
   "cell_type": "code",
   "execution_count": 99,
   "metadata": {},
   "outputs": [
    {
     "name": "stdout",
     "output_type": "stream",
     "text": [
      " Sklearn AGGL score 1.0. Sklearn AGGL time 1.025972843170166\n"
     ]
    }
   ],
   "source": [
    "# Давайте проверим, как справляются sklearn реализации\n",
    "sklearn_aggl = AgglomerativeClustering(n_clusters=2)\n",
    "aggl_t0 = time.time()\n",
    "aggl_pred = sklearn_aggl.fit_predict(x_iris)\n",
    "aggl_diff = time.time() - aggl_t0\n",
    "aggl_score = smt.adjusted_rand_score(y_iris, aggl_pred)\n",
    "print (\" Sklearn AGGL score {}. Sklearn AGGL time {}\".format(aggl_score, aggl_diff))"
   ]
  },
  {
   "cell_type": "code",
   "execution_count": 100,
   "metadata": {},
   "outputs": [
    {
     "name": "stdout",
     "output_type": "stream",
     "text": [
      "Our AGGL score 1.0. Our AGGL time 1.1349542140960693\n"
     ]
    }
   ],
   "source": [
    "# Здесь предскажем кластера, посчитаем метрику кластеризации и время работы, сравним со склерном\n",
    "сustum_aggl = Clustering(metric='euclidean', n_clusters=2)\n",
    "aggl_t0 = time.time()\n",
    "aggl_pred = сustum_aggl.fit_predict(x_iris)\n",
    "aggl_diff = time.time() - aggl_t0\n",
    "aggl_score = smt.adjusted_rand_score(y_iris, aggl_pred)\n",
    "print (\"Our AGGL score {}. Our AGGL time {}\".format(aggl_score, aggl_diff))"
   ]
  },
  {
   "cell_type": "markdown",
   "metadata": {},
   "source": [
    "# Боевое применение (3  балла)\n"
   ]
  },
  {
   "cell_type": "markdown",
   "metadata": {},
   "source": [
    "Алгоритмы кластеризации прекрасны тем, что они позволяют быстро понять, как устроены наши данные. Давайте применим Ваш алгоритм для нашего конкурса!"
   ]
  },
  {
   "cell_type": "markdown",
   "metadata": {},
   "source": [
    "Будем рассматривать каждую группу независимо от других групп. На каждой группе применим наш алгоритм и отрисуем денденограмму. По результатам кластерного анализа, Вам нужно ответить на следующие вопросы:\n",
    "\n",
    "1) Можно ли по дендонаграмме (или по другим результатам кластеризации) сказать, где в группе аномалии? Каким образом?\n",
    "\n",
    "2) Какое расстояние лучше использовать между заголовками страниц для кластеризации? \n",
    "\n",
    "2) Какое качество f1_score Вы смогли получить на обучающем множестве методами кластеризации? (валидацию можете не делать, если таргет не используете)\n",
    "\n",
    "4) Как можно результат кластеризации затем использовать для  финальной модели обучения с учителем?"
   ]
  },
  {
   "cell_type": "markdown",
   "metadata": {},
   "source": [
    "Подсказка: самое важное - выбрать расстояние между заголовками. Самый простой вариант:  процент различных слов в двух заголовках."
   ]
  },
  {
   "cell_type": "code",
   "execution_count": 5,
   "metadata": {},
   "outputs": [],
   "source": [
    "data_dir = 'C:/Datasets/anomaly-detection-competition-ml1-ts-fall-2019/'"
   ]
  },
  {
   "cell_type": "code",
   "execution_count": 6,
   "metadata": {},
   "outputs": [
    {
     "name": "stdout",
     "output_type": "stream",
     "text": [
      "28026\n"
     ]
    }
   ],
   "source": [
    "doc_to_title = {}\n",
    "with open(data_dir+'docs_titles.tsv', encoding='utf-8') as f:\n",
    "    for num_line, line in enumerate(f):\n",
    "        if num_line == 0:\n",
    "            continue\n",
    "        data = line.strip().split('\\t', 1)\n",
    "        doc_id = int(data[0])\n",
    "        if len(data) == 1:\n",
    "            title = ''\n",
    "        else:\n",
    "            title = data[1]\n",
    "        doc_to_title[doc_id] = title\n",
    "print(len(doc_to_title))"
   ]
  },
  {
   "cell_type": "code",
   "execution_count": 7,
   "metadata": {},
   "outputs": [],
   "source": [
    "train_data = pd.read_csv(data_dir+'train_groups.csv')\n",
    "traingroups_titledata = {}\n",
    "for i in range(len(train_data)):\n",
    "    new_doc = train_data.iloc[i]\n",
    "    doc_group = new_doc['group_id']\n",
    "    doc_id = new_doc['doc_id']\n",
    "    target = new_doc['target']\n",
    "    title = doc_to_title[doc_id]\n",
    "    if doc_group not in traingroups_titledata:\n",
    "        traingroups_titledata[doc_group] = []\n",
    "    traingroups_titledata[doc_group].append((doc_id, title, target))"
   ]
  },
  {
   "cell_type": "markdown",
   "metadata": {},
   "source": [
    "Кластеризацию проводите в каждой группе отдельно, то есть изучайте, можно ли в группе  найти подкластер выбросов\n",
    "\n",
    "Документы можно представлять, например, словами из тайтла.\n",
    "\n",
    "Главное подобрать хорошую функцию расстояния между документами\n"
   ]
  },
  {
   "cell_type": "markdown",
   "metadata": {},
   "source": [
    "Замечание: в кластеризации можно использовать все данные, то есть трейн + тест, чтобы находить больше закономерностей "
   ]
  },
  {
   "cell_type": "code",
   "execution_count": null,
   "metadata": {},
   "outputs": [],
   "source": []
  },
  {
   "cell_type": "markdown",
   "metadata": {},
   "source": [
    "Ответы:\n",
    "\n",
    "1) Можно ли по дендонаграмме (или по другим результатам кластеризации) сказать, где в группе аномалии? Каким образом? </br>\n",
    "Можно. Если некоторый объект далеко отстоит от всех остальных объетов и не входит в никакой кластер, то это будет видно по дендрограмме.  На дендрограмме это будет видно как большой \"скачок\" ближе к корню дерева.\n",
    "\n",
    "2) Какое расстояние лучше использовать между заголовками страниц для кластеризации? </br>\n",
    "Я остановился на Dice и Jaccard, так как в данном случае они проверяют бинарные вектора на наличие или отсутствие объектов и по смыслу они похожи между собой\n",
    "\n",
    "2) Какое качество f1_score Вы смогли получить на обучающем множестве методами кластеризации? (валидацию можете не делать, если таргет не используете) </br>\n",
    "0, что имеет за собой смысл, так как после иерархической кластеризации последний кластер состоит из одного объекта. Поэтому при предсказании, получается, что метку 1 имеет только один объект в группе. Получается, что обънкты с таргетом 1 плохо кластеризуются.\n",
    "\n",
    "4) Как можно результат кластеризации затем использовать для  финальной модели обучения с учителем? </br>\n",
    "Можно попытаться автоматически по дендрограмме выбросить аномалии, а также использовать предсказанные кластеры как дополнительный признак"
   ]
  },
  {
   "cell_type": "code",
   "execution_count": 109,
   "metadata": {},
   "outputs": [],
   "source": [
    "def plot_group_dendrogram(group, metric='dice'):\n",
    "    plt.rcParams['figure.figsize'] = (12,7)\n",
    "\n",
    "    vectorizer = CountVectorizer()\n",
    "    tfidf = TfidfTransformer()\n",
    "    \n",
    "    pipeline = Pipeline([\n",
    "        ('vect', CountVectorizer()),\n",
    "        ('tfidf', TfidfTransformer()),\n",
    "    ])\n",
    "    group_vectors = pipeline.fit_transform(\n",
    "        [title for _, title, target in traingroups_titledata[group]]\n",
    "    )\n",
    "\n",
    "    # используется dice, так как он как раз работает для бинарнх векторов\n",
    "    clustering = Clustering(metric=metric, n_clusters=2)\n",
    "    preds = clustering.fit_predict(group_vectors.todense())\n",
    "    \n",
    "    targets = [target for _, title, target in traingroups_titledata[group]]\n",
    "\n",
    "    plt.title(f'group {group}')\n",
    "    clustering.plot_dendrogram(orientation='top')\n",
    "    \n",
    "    print('f1_score:   ', f1_score(preds, targets))"
   ]
  },
  {
   "cell_type": "code",
   "execution_count": 110,
   "metadata": {},
   "outputs": [
    {
     "name": "stdout",
     "output_type": "stream",
     "text": [
      "f1_score:    0.0\n"
     ]
    },
    {
     "data": {
      "image/png": "[encoded data removed]",
      "text/plain": [
       "<Figure size 864x504 with 1 Axes>"
      ]
     },
     "metadata": {
      "needs_background": "light"
     },
     "output_type": "display_data"
    }
   ],
   "source": [
    "plot_group_dendrogram(8)"
   ]
  },
  {
   "cell_type": "code",
   "execution_count": 8,
   "metadata": {},
   "outputs": [],
   "source": [
    "train_titles, train_targets = [], []\n",
    "for group in traingroups_titledata:\n",
    "    train_titles += [title for _, title, _ in traingroups_titledata[group]]\n",
    "    train_targets += [target for _, _, target in traingroups_titledata[group]]"
   ]
  },
  {
   "cell_type": "code",
   "execution_count": 9,
   "metadata": {},
   "outputs": [
    {
     "data": {
      "text/plain": [
       "(1000, 3933)"
      ]
     },
     "execution_count": 9,
     "metadata": {},
     "output_type": "execute_result"
    }
   ],
   "source": [
    "pipeline = Pipeline([\n",
    "    ('vect', CountVectorizer()),\n",
    "    ('tfidf', TfidfTransformer()),\n",
    "])\n",
    "group_vectors = pipeline.fit_transform(\n",
    "    train_titles[:1000]\n",
    ")\n",
    "group_vectors.shape"
   ]
  },
  {
   "cell_type": "code",
   "execution_count": null,
   "metadata": {},
   "outputs": [],
   "source": [
    "clustering = Clustering(metric='euclidean', n_clusters=2)\n",
    "preds = clustering.fit_predict(group_vectors)"
   ]
  },
  {
   "cell_type": "code",
   "execution_count": 12,
   "metadata": {},
   "outputs": [
    {
     "name": "stdout",
     "output_type": "stream",
     "text": [
      "f1_score:    0.0\n"
     ]
    }
   ],
   "source": [
    "print('f1_score:   ', f1_score(preds, train_targets[:1000]))"
   ]
  },
  {
   "cell_type": "markdown",
   "metadata": {},
   "source": [
    "Если получилось найти выбросы с помощью кластеризации, то не забывайте использовать его в финальном решении. Помните - использование различных подходов к решению задачи всегда улучшает финального качество."
   ]
  },
  {
   "cell_type": "code",
   "execution_count": null,
   "metadata": {
    "collapsed": true,
    "jupyter": {
     "outputs_hidden": true
    }
   },
   "outputs": [],
   "source": []
  },
  {
   "cell_type": "markdown",
   "metadata": {},
   "source": [
    "Здесь Вы можете оставить отзыв о этой домашней работе или о всем курсе.   "
   ]
  },
  {
   "cell_type": "markdown",
   "metadata": {},
   "source": [
    "*** ВАШ ОТЗЫВ ЗДЕСЬ***"
   ]
  },
  {
   "cell_type": "markdown",
   "metadata": {},
   "source": []
  },
  {
   "cell_type": "markdown",
   "metadata": {},
   "source": []
  }
 ],
 "metadata": {
  "anaconda-cloud": {},
  "kernelspec": {
   "display_name": "Python 3",
   "language": "python",
   "name": "python3"
  },
  "language_info": {
   "codemirror_mode": {
    "name": "ipython",
    "version": 3
   },
   "file_extension": ".py",
   "mimetype": "text/x-python",
   "name": "python",
   "nbconvert_exporter": "python",
   "pygments_lexer": "ipython3",
   "version": "3.7.3"
  }
 },
 "nbformat": 4,
 "nbformat_minor": 4
}
